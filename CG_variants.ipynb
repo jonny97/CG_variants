{
 "cells": [
  {
   "cell_type": "code",
   "execution_count": 65,
   "metadata": {},
   "outputs": [],
   "source": [
    "import numpy as np\n",
    "from matplotlib.pyplot import *\n",
    "import matplotlib.pyplot as plt\n",
    "from scipy import *\n",
    "import scipy\n",
    "from scipy.io import mmread\n",
    "import pylab\n",
    "import time\n",
    "import scipy.sparse.linalg as spl"
   ]
  },
  {
   "cell_type": "code",
   "execution_count": 71,
   "metadata": {},
   "outputs": [],
   "source": [
    "# mycg implementation\n",
    "def mycg(A,b,x0,maxit,repeat_update=0,restarting=1):\n",
    "    x = x0\n",
    "    r = b-A@x\n",
    "    initial_error = r.T@r\n",
    "    p = r\n",
    "    E=[]\n",
    "    for i in range(maxit):\n",
    "        r_dot_r = r.T@r\n",
    "        if r_dot_r<initial_error*1e-15:\n",
    "            return x,E\n",
    "        Ap = A @ p\n",
    "        alpha = r_dot_r/(p.T @ Ap)\n",
    "        x+= alpha*p\n",
    "        if (i+1)%restarting==0:\n",
    "            r = b-A@x\n",
    "        else:\n",
    "            r     -= alpha*Ap\n",
    "        beta= (r.T@r)/r_dot_r\n",
    "        p       = r + beta*p\n",
    "        for j in range(repeat_update):\n",
    "            p       = r + beta*p\n",
    "        #p       = (1+repeat_update)*r + beta*p\n",
    "        E.append(r_dot_r)\n",
    "        \n",
    "    return x,E\n",
    "\n",
    "def mycg_modified_alpha(A,b,x0,maxit,repeat_update=0,restarting=1):\n",
    "    x = x0\n",
    "    r = b-A@x\n",
    "    initial_error = r.T@r\n",
    "    p = r\n",
    "    E=[]\n",
    "    for i in range(maxit):\n",
    "        r_dot_r = r.T@r\n",
    "        if r_dot_r<initial_error*1e-15:\n",
    "            return x,E\n",
    "        Ap = A @ p\n",
    "        alpha = p.T@r/(p.T @ Ap)\n",
    "        x+= alpha*p\n",
    "        if (i+1)%restarting==0:\n",
    "            r = b-A@x\n",
    "        else:\n",
    "            r     -= alpha*Ap\n",
    "        beta= (r.T@r)/r_dot_r\n",
    "        p       = r + beta*p\n",
    "        for j in range(repeat_update):\n",
    "            p       = r + beta*p\n",
    "        #p       = (1+repeat_update)*r + beta*p\n",
    "        E.append(r_dot_r)\n",
    "        \n",
    "    return x,E\n"
   ]
  },
  {
   "cell_type": "code",
   "execution_count": 19,
   "metadata": {},
   "outputs": [],
   "source": [
    "# load problem : test cant\n",
    "A = mmread(\"/Users/user/test/cant.mtx\")\n",
    "dim = A.shape[0]\n",
    "A = A.tocsr()\n",
    "true_x = np.random.rand(dim)\n",
    "b = A @ true_x\n",
    "x0=np.zeros(dim)"
   ]
  },
  {
   "cell_type": "code",
   "execution_count": 57,
   "metadata": {},
   "outputs": [
    {
     "name": "stdout",
     "output_type": "stream",
     "text": [
      "repeat number =  0\n",
      "time takes: 90.09711599349976  for  3 iterations\n",
      "residue squared: 0.00022181138800134517\n",
      "\n",
      "\n",
      "repeat number =  1\n",
      "time takes: 101.1284019947052  for  3 iterations\n",
      "residue squared: 0.0004790064278352587\n",
      "\n",
      "\n",
      "repeat number =  2\n",
      "time takes: 104.69668912887573  for  3 iterations\n",
      "residue squared: 0.0011053682913737119\n",
      "\n",
      "\n"
     ]
    }
   ],
   "source": [
    "x0 = np.zeros(A.shape[0])\n",
    "ans= []\n",
    "E=[[],[],[]]\n",
    "for repeat in range(3):\n",
    "    print(\"repeat number = \",repeat)\n",
    "    start = time.time()\n",
    "    x,temp = cg(A,b,np.zeros(A.shape[0]),10000,repeat,1)\n",
    "    E[repeat].append(temp)\n",
    "    end = time.time()\n",
    "    print(\"time takes:\", end - start, \" for \",len(E),\"iterations\")\n",
    "    print(\"residue squared:\",(b - A @ x).T @ (b- A @ x))\n",
    "    ans.append(np.copy(x))\n",
    "    print(\"\\n\")"
   ]
  },
  {
   "cell_type": "code",
   "execution_count": 58,
   "metadata": {},
   "outputs": [
    {
     "data": {
      "text/plain": [
       "[<matplotlib.lines.Line2D at 0x12ca8c860>]"
      ]
     },
     "execution_count": 58,
     "metadata": {},
     "output_type": "execute_result"
    },
    {
     "data": {
      "image/png": "[encoded data removed]",
      "text/plain": [
       "<matplotlib.figure.Figure at 0x12c13e8d0>"
      ]
     },
     "metadata": {},
     "output_type": "display_data"
    }
   ],
   "source": [
    "plot(log(E[0][0]),\"b\")\n",
    "plot(log(E[1][0]),\"g\")\n",
    "plot(log(E[2][0]),\"r\")"
   ]
  },
  {
   "cell_type": "code",
   "execution_count": 132,
   "metadata": {},
   "outputs": [],
   "source": [
    "def gd_alpha(A,b,x0,maxit,repeat_update=0,restarting=1):\n",
    "    x = x0\n",
    "    r = b-A@x\n",
    "    initial_error = r.T@r\n",
    "    p = r\n",
    "    E=[]\n",
    "    r_dot_r = r.T@r\n",
    "    E.append(r_dot_r)\n",
    "\n",
    "    for i in range(maxit):\n",
    "        if r_dot_r<initial_error*1e-15:\n",
    "            return x,E\n",
    "        alpha = r_dot_r/(r.T @ A @ r)\n",
    "        x+= alpha*r\n",
    "        r = b-A@x\n",
    "        r_dot_r = r.T@r\n",
    "        E.append(r_dot_r)\n",
    "        \n",
    "    return x,E\n",
    "\n",
    "def gd_alpha_fixed(A,b,x0,maxit,repeat_update=0,restarting=1):\n",
    "    x = x0\n",
    "    r = b-A@x\n",
    "    initial_error = r.T@r\n",
    "    p = r\n",
    "    E=[]\n",
    "    r_dot_r = r.T@r\n",
    "    E.append(r_dot_r)\n",
    "\n",
    "    for i in range(maxit):\n",
    "        if r_dot_r<initial_error*1e-15:\n",
    "            return x,E\n",
    "        alpha = 0.0001\n",
    "        x = x + alpha*r\n",
    "        r = b-A@x\n",
    "        r_dot_r = r.T@r\n",
    "        E.append(r_dot_r)\n",
    "        \n",
    "    return x,E"
   ]
  },
  {
   "cell_type": "code",
   "execution_count": null,
   "metadata": {},
   "outputs": [],
   "source": [
    "def gd_alpha_l2_loss(A,b,x0,maxit,repeat_update=0,restarting=1):\n",
    "    p = A^T(Ax-b)\n",
    "    # not done"
   ]
  },
  {
   "cell_type": "code",
   "execution_count": 60,
   "metadata": {},
   "outputs": [
    {
     "name": "stdout",
     "output_type": "stream",
     "text": [
      "time takes: 111.06176471710205\n",
      "residue squared: 430.597760852601\n"
     ]
    }
   ],
   "source": [
    "E_gd_alpha=[]\n",
    "start = time.time()\n",
    "x,E_gd_alpha = gd_alpha(A,b,np.zeros(A.shape[0]),10000,repeat,1)\n",
    "end = time.time()\n",
    "print(\"time takes:\", end - start)\n",
    "print(\"residue squared:\",(b - A @ x).T @ (b- A @ x))"
   ]
  },
  {
   "cell_type": "code",
   "execution_count": 140,
   "metadata": {},
   "outputs": [
    {
     "name": "stdout",
     "output_type": "stream",
     "text": [
      "time takes: 72.1058759689331\n",
      "residue squared: 216.03508884865687\n"
     ]
    }
   ],
   "source": [
    "E_gd_alpha_fixed=[]\n",
    "start = time.time()\n",
    "x,E_gd_alpha_fixed = gd_alpha_fixed(A,b,np.zeros(A.shape[0]),10000,repeat,1)\n",
    "end = time.time()\n",
    "print(\"time takes:\", end - start)\n",
    "print(\"residue squared:\",(b - A @ x).T @ (b- A @ x))"
   ]
  },
  {
   "cell_type": "code",
   "execution_count": 78,
   "metadata": {},
   "outputs": [
    {
     "name": "stdout",
     "output_type": "stream",
     "text": [
      "repeat number =  0\n",
      "time takes: 76.36092281341553  for  3 iterations\n",
      "residue squared: 0.00022181138800134517\n",
      "\n",
      "\n",
      "repeat number =  1\n",
      "time takes: 94.81251096725464  for  3 iterations\n",
      "residue squared: 0.0004790064278352587\n",
      "\n",
      "\n",
      "repeat number =  2\n",
      "time takes: 97.511146068573  for  3 iterations\n",
      "residue squared: 0.0011053682913737119\n",
      "\n",
      "\n"
     ]
    }
   ],
   "source": [
    "x0 = np.zeros(A.shape[0])\n",
    "ans= []\n",
    "E_my_CG_modified_alpha=[[],[],[]]\n",
    "for repeat in range(3):\n",
    "    print(\"repeat number = \",repeat)\n",
    "    start = time.time()\n",
    "    x,temp = cg(A,b,np.zeros(A.shape[0]),10000,repeat,1)\n",
    "    E_my_CG_modified_alpha[repeat].append(temp)\n",
    "    end = time.time()\n",
    "    print(\"time takes:\", end - start, \" for \",len(E),\"iterations\")\n",
    "    print(\"residue squared:\",(b - A @ x).T @ (b- A @ x))\n",
    "    ans.append(np.copy(x))\n",
    "    print(\"\\n\")"
   ]
  },
  {
   "cell_type": "code",
   "execution_count": 145,
   "metadata": {},
   "outputs": [
    {
     "name": "stderr",
     "output_type": "stream",
     "text": [
      "/Library/Frameworks/Python.framework/Versions/3.6/lib/python3.6/site-packages/matplotlib/figure.py:418: UserWarning: matplotlib is currently using a non-GUI backend, so cannot show the figure\n",
      "  \"matplotlib is currently using a non-GUI backend, \"\n"
     ]
    },
    {
     "data": {
      "image/png": "[encoded data removed]",
      "text/plain": [
       "<matplotlib.figure.Figure at 0x12dc18f98>"
      ]
     },
     "metadata": {},
     "output_type": "display_data"
    }
   ],
   "source": [
    "fig=plt.figure()\n",
    "fig.show()\n",
    "ax=fig.add_subplot(111)\n",
    "x=[]\n",
    "ax.plot(E[0][0],label='original CG',fillstyle='none')\n",
    "ax.plot(E[1][0],label='smoothing CG')\n",
    "ax.plot(E_gd_alpha_fixed,c=\"y\",label='Gradient Descent with fixed alpha=0.1')\n",
    "ax.plot(E_gd_alpha,label='Gradient Descent with variable alpha')\n",
    "\n",
    "ax.set_yscale('log')\n",
    "plt.xlabel('number of iterations')\n",
    "plt.ylabel('residue squared')\n",
    "plt.title('CG, smoothing CG, and gradient Descent on Matrix cant')\n",
    "\n",
    "plt.grid()\n",
    "plt.legend(loc=1)\n",
    "plt.show()"
   ]
  },
  {
   "cell_type": "code",
   "execution_count": 102,
   "metadata": {},
   "outputs": [],
   "source": [
    "# mycg + cg\n",
    "def mycg_downgrade(A,b,x0,maxit,repeat_update=0,restarting=1,initial_error = None):\n",
    "    x = x0\n",
    "    r = b-A@x\n",
    "    if initial_error==None: initial_error = r.T@r\n",
    "    p = r\n",
    "    E=[]\n",
    "    for i in range(maxit):\n",
    "        r_dot_r = r.T@r\n",
    "        if repeat_update>0 and r_dot_r<initial_error*1e-11:\n",
    "            print(\"downgrade at iteration: \",i)\n",
    "            x,E2 = mycg_downgrade(A,b,x0,maxit-i,0,restarting,initial_error)\n",
    "            E = E+E2\n",
    "            return x,E\n",
    "        if r_dot_r<initial_error*1e-15:\n",
    "            return x,E\n",
    "        Ap = A @ p\n",
    "        alpha = r_dot_r/(p.T @ Ap)\n",
    "        x+= alpha*p\n",
    "        if (i+1)%restarting==0:\n",
    "            r = b-A@x\n",
    "        else:\n",
    "            r     -= alpha*Ap\n",
    "        beta= (r.T@r)/r_dot_r\n",
    "        p       = r + beta*p\n",
    "        for j in range(repeat_update):\n",
    "            p       = r + beta*p\n",
    "        #p       = (1+repeat_update)*r + beta*p\n",
    "        E.append(r_dot_r)\n",
    "        \n",
    "    return x,E"
   ]
  },
  {
   "cell_type": "code",
   "execution_count": 103,
   "metadata": {},
   "outputs": [
    {
     "name": "stdout",
     "output_type": "stream",
     "text": [
      "repeat number =  0\n",
      "time takes: 102.86430525779724  for  3 iterations\n",
      "residue squared: 0.00022181138800134517\n",
      "\n",
      "\n",
      "repeat number =  1\n",
      "downgrade at iteration:  821\n",
      "time takes: 106.80845880508423  for  3 iterations\n",
      "residue squared: 0.00021472083563606046\n",
      "\n",
      "\n",
      "repeat number =  2\n",
      "downgrade at iteration:  1135\n",
      "time takes: 106.85040378570557  for  3 iterations\n",
      "residue squared: 0.00021311593715439087\n",
      "\n",
      "\n"
     ]
    }
   ],
   "source": [
    "x0 = np.zeros(A.shape[0])\n",
    "ans= []\n",
    "E_my_CG_modified_alpha=[[],[],[]]\n",
    "for repeat in range(3):\n",
    "    print(\"repeat number = \",repeat)\n",
    "    start = time.time()\n",
    "    x,temp = mycg_downgrade(A,b,np.zeros(A.shape[0]),10000,repeat,1)\n",
    "    E_my_CG_modified_alpha[repeat].append(temp)\n",
    "    end = time.time()\n",
    "    print(\"time takes:\", end - start, \" for \",len(E),\"iterations\")\n",
    "    print(\"residue squared:\",(b - A @ x).T @ (b- A @ x))\n",
    "    ans.append(np.copy(x))\n",
    "    print(\"\\n\")"
   ]
  },
  {
   "cell_type": "code",
   "execution_count": 104,
   "metadata": {},
   "outputs": [
    {
     "data": {
      "text/plain": [
       "[<matplotlib.lines.Line2D at 0x11e591b70>]"
      ]
     },
     "execution_count": 104,
     "metadata": {},
     "output_type": "execute_result"
    },
    {
     "data": {
      "image/png": "[encoded data removed]",
      "text/plain": [
       "<matplotlib.figure.Figure at 0x12e801390>"
      ]
     },
     "metadata": {},
     "output_type": "display_data"
    }
   ],
   "source": [
    "plot(log(E_my_CG_modified_alpha[0][0]),\"b\")\n",
    "plot(log(E_my_CG_modified_alpha[1][0]),\"g\")\n",
    "plot(log(E_my_CG_modified_alpha[2][0]),\"r\")"
   ]
  },
  {
   "cell_type": "code",
   "execution_count": 107,
   "metadata": {},
   "outputs": [
    {
     "name": "stdout",
     "output_type": "stream",
     "text": [
      "7611\n",
      "7887\n",
      "8037\n"
     ]
    }
   ],
   "source": [
    "for i in range(3): print(len(E_my_CG_modified_alpha[i][0]))"
   ]
  },
  {
   "cell_type": "code",
   "execution_count": 112,
   "metadata": {},
   "outputs": [
    {
     "name": "stdout",
     "output_type": "stream",
     "text": [
      "repeat number =  0\n",
      "time takes: 15.051684141159058  for  3 iterations\n",
      "residue squared: 24.232870678321383\n",
      "\n",
      "\n",
      "repeat number =  1\n",
      "downgrade at iteration:  821\n",
      "time takes: 15.752609014511108  for  3 iterations\n",
      "residue squared: 119.42324706499735\n",
      "\n",
      "\n",
      "repeat number =  2\n",
      "time takes: 15.365996837615967  for  3 iterations\n",
      "residue squared: 4.956424146069723\n",
      "\n",
      "\n"
     ]
    },
    {
     "data": {
      "text/plain": [
       "[<matplotlib.lines.Line2D at 0x11e6117f0>]"
      ]
     },
     "execution_count": 112,
     "metadata": {},
     "output_type": "execute_result"
    },
    {
     "data": {
      "image/png": "[encoded data removed]",
      "text/plain": [
       "<matplotlib.figure.Figure at 0x12dc055c0>"
      ]
     },
     "metadata": {},
     "output_type": "display_data"
    }
   ],
   "source": [
    "# mycg + cg\n",
    "def mycg_downgrade2(A,b,x0,maxit,repeat_update=0,restarting=1,initial_error = None):\n",
    "    x = x0\n",
    "    r = b-A@x\n",
    "    if initial_error==None: initial_error = r.T@r\n",
    "    p = r\n",
    "    E=[]\n",
    "    for i in range(maxit):\n",
    "        r_dot_r = r.T@r\n",
    "        if repeat_update>0 and r_dot_r<initial_error*1e-20:\n",
    "            print(\"downgrade at iteration: \",i)\n",
    "            x,E2 = mycg_downgrade2(A,b,x0,maxit-i,0,restarting,initial_error)\n",
    "            E = E+E2\n",
    "            return x,E\n",
    "        if r_dot_r<initial_error*1e-15:\n",
    "            return x,E\n",
    "        Ap = A @ p\n",
    "        alpha = r_dot_r/(p.T @ Ap)\n",
    "        x+= alpha*p\n",
    "        if (i+1)%restarting==0:\n",
    "            r = b-A@x\n",
    "        else:\n",
    "            r     -= alpha*Ap\n",
    "        beta= (r.T@r)/r_dot_r\n",
    "#       p       = (1+beta)*r + beta*beta*p\n",
    "        p   = r + beta*p\n",
    "        for j in range(repeat_update):\n",
    "            p = r + beta*p\n",
    "        #p       = (1+repeat_update)*r + beta*p\n",
    "        E.append(r_dot_r)\n",
    "        \n",
    "    return x,E\n",
    "x0 = np.zeros(A.shape[0])\n",
    "ans= []\n",
    "E_my_CG_modified_alpha=[[],[],[]]\n",
    "for repeat in range(3):\n",
    "    print(\"repeat number = \",repeat)\n",
    "    start = time.time()\n",
    "    x,temp = mycg_downgrade2(A,b,np.zeros(A.shape[0]),1000,repeat,1)\n",
    "    E_my_CG_modified_alpha[repeat].append(temp)\n",
    "    end = time.time()\n",
    "    print(\"time takes:\", end - start, \" for \",len(E),\"iterations\")\n",
    "    print(\"residue squared:\",(b - A @ x).T @ (b- A @ x))\n",
    "    ans.append(np.copy(x))\n",
    "    print(\"\\n\")\n",
    "plot(log(E_my_CG_modified_alpha[0][0]),\"b\")\n",
    "plot(log(E_my_CG_modified_alpha[1][0]),\"g\")\n",
    "plot(log(E_my_CG_modified_alpha[2][0]),\"r\")"
   ]
  },
  {
   "cell_type": "code",
   "execution_count": null,
   "metadata": {},
   "outputs": [],
   "source": []
  },
  {
   "cell_type": "code",
   "execution_count": 123,
   "metadata": {},
   "outputs": [
    {
     "name": "stdout",
     "output_type": "stream",
     "text": [
      "time takes: 14.50931191444397  for  3 iterations\n",
      "residue squared: 24.232870678321383\n",
      "\n",
      "\n"
     ]
    },
    {
     "data": {
      "text/plain": [
       "[<matplotlib.lines.Line2D at 0x121707780>]"
      ]
     },
     "execution_count": 123,
     "metadata": {},
     "output_type": "execute_result"
    },
    {
     "data": {
      "image/png": "[encoded data removed]",
      "text/plain": [
       "<matplotlib.figure.Figure at 0x11fcf1320>"
      ]
     },
     "metadata": {},
     "output_type": "display_data"
    }
   ],
   "source": [
    "# mycg + cg\n",
    "def mycg_downgrade3(A,b,x0,maxit,repeat_update=0,restarting=1,initial_error = None):\n",
    "    x = x0\n",
    "    r = b-A@x\n",
    "    if initial_error==None: initial_error = r.T@r\n",
    "    p = r\n",
    "    E=[]\n",
    "    for i in range(maxit):\n",
    "        r_dot_r = r.T@r\n",
    "        if repeat_update>0 and r_dot_r<initial_error*1e-20:\n",
    "            print(\"downgrade at iteration: \",i)\n",
    "            x,E2 = mycg_downgrade3(A,b,x0,maxit-i,0,restarting,initial_error)\n",
    "            E = E+E2\n",
    "            return x,E\n",
    "        if r_dot_r<initial_error*1e-15:\n",
    "            return x,E\n",
    "        Ap = A @ p\n",
    "        alpha = r_dot_r/(p.T @ Ap)\n",
    "        x+= alpha*p\n",
    "        if (i+1)%restarting==0:\n",
    "            r = b-A@x\n",
    "        else:\n",
    "            r     -= alpha*Ap\n",
    "        beta= (r.T@r)/r_dot_r\n",
    "#        p       = r + beta*beta/(1+beta)*p\n",
    "        if i%5==0:\n",
    "            p   = r + beta*p\n",
    "            #p       = (1+beta)*r + beta*beta*p\n",
    "        else:\n",
    "            p   = r + beta*p\n",
    "        E.append(r_dot_r)\n",
    "        \n",
    "    return x,E\n",
    "x0 = np.zeros(A.shape[0])\n",
    "ans= []\n",
    "start = time.time()\n",
    "x,E_2020 = mycg_downgrade3(A,b,np.zeros(A.shape[0]),1000,0,1)\n",
    "end = time.time()\n",
    "print(\"time takes:\", end - start, \" for \",len(E),\"iterations\")\n",
    "print(\"residue squared:\",(b - A @ x).T @ (b- A @ x))\n",
    "ans.append(np.copy(x))\n",
    "print(\"\\n\")\n",
    "plot(log(E_2020),\"b\")"
   ]
  },
  {
   "cell_type": "code",
   "execution_count": null,
   "metadata": {},
   "outputs": [],
   "source": []
  },
  {
   "cell_type": "code",
   "execution_count": 128,
   "metadata": {},
   "outputs": [],
   "source": [
    "# set coef of r as 2\n",
    "def mycg(A,b,x0,maxit,repeat_update=0,restarting=1):\n",
    "    x = x0\n",
    "    r = b-A@x\n",
    "    initial_error = r.T@r\n",
    "    p = r\n",
    "    E=[]\n",
    "    for i in range(maxit):\n",
    "        r_dot_r = r.T@r\n",
    "        if r_dot_r<initial_error*1e-15:\n",
    "            return x,E\n",
    "        Ap = A @ p\n",
    "        alpha = r_dot_r/(p.T @ Ap)\n",
    "        x+= alpha*p\n",
    "        if (i+1)%restarting==0:\n",
    "            r = b-A@x\n",
    "        else:\n",
    "            r     -= alpha*Ap\n",
    "        beta= (r.T@r)/r_dot_r\n",
    "        p       = (1+repeat_update)*r + beta*p\n",
    "        E.append(r_dot_r)\n",
    "        \n",
    "    return x,E"
   ]
  },
  {
   "cell_type": "code",
   "execution_count": 129,
   "metadata": {},
   "outputs": [
    {
     "name": "stdout",
     "output_type": "stream",
     "text": [
      "repeat number =  0\n",
      "time takes: 86.83452081680298  for  3 iterations\n",
      "residue squared: 0.00022181138800134517\n",
      "\n",
      "\n",
      "repeat number =  1\n",
      "time takes: 117.53298997879028  for  3 iterations\n",
      "residue squared: 64135.006935211524\n",
      "\n",
      "\n",
      "repeat number =  2\n",
      "time takes: 111.50404930114746  for  3 iterations\n",
      "residue squared: 10639633.969835192\n",
      "\n",
      "\n"
     ]
    }
   ],
   "source": [
    "x0 = np.zeros(A.shape[0])\n",
    "ans= []\n",
    "E=[[],[],[]]\n",
    "for repeat in range(3):\n",
    "    print(\"repeat number = \",repeat)\n",
    "    start = time.time()\n",
    "    x,temp = mycg(A,b,np.zeros(A.shape[0]),10000,repeat,1)\n",
    "    E[repeat].append(temp)\n",
    "    end = time.time()\n",
    "    print(\"time takes:\", end - start, \" for \",len(E),\"iterations\")\n",
    "    print(\"residue squared:\",(b - A @ x).T @ (b- A @ x))\n",
    "    ans.append(np.copy(x))\n",
    "    print(\"\\n\")"
   ]
  },
  {
   "cell_type": "code",
   "execution_count": 130,
   "metadata": {},
   "outputs": [
    {
     "data": {
      "text/plain": [
       "[<matplotlib.lines.Line2D at 0x1213773c8>]"
      ]
     },
     "execution_count": 130,
     "metadata": {},
     "output_type": "execute_result"
    },
    {
     "data": {
      "image/png": "[encoded data removed]",
      "text/plain": [
       "<matplotlib.figure.Figure at 0x121736c18>"
      ]
     },
     "metadata": {},
     "output_type": "display_data"
    }
   ],
   "source": [
    "plot(log(E[0][0]),\"b\")\n",
    "plot(log(E[1][0]),\"g\")\n",
    "plot(log(E[2][0]),\"r\")"
   ]
  },
  {
   "cell_type": "code",
   "execution_count": 131,
   "metadata": {},
   "outputs": [
    {
     "name": "stdout",
     "output_type": "stream",
     "text": [
      "repeat number =  0\n",
      "time takes: 85.47800016403198  for  3 iterations\n",
      "residue squared: 0.00022181138800134517\n",
      "\n",
      "\n",
      "repeat number =  1\n",
      "time takes: 111.87645101547241  for  3 iterations\n",
      "residue squared: 0.0004790064278352587\n",
      "\n",
      "\n",
      "repeat number =  2\n",
      "time takes: 114.7083032131195  for  3 iterations\n",
      "residue squared: 0.0011053682913737119\n",
      "\n",
      "\n"
     ]
    },
    {
     "data": {
      "text/plain": [
       "[<matplotlib.lines.Line2D at 0x120e31748>]"
      ]
     },
     "execution_count": 131,
     "metadata": {},
     "output_type": "execute_result"
    },
    {
     "data": {
      "image/png": "[encoded data removed]",
      "text/plain": [
       "<matplotlib.figure.Figure at 0x121560940>"
      ]
     },
     "metadata": {},
     "output_type": "display_data"
    }
   ],
   "source": [
    "# set coef of r as 2\n",
    "def mycg(A,b,x0,maxit,repeat_update=0,restarting=1):\n",
    "    x = x0\n",
    "    r = b-A@x\n",
    "    initial_error = r.T@r\n",
    "    p = r\n",
    "    E=[]\n",
    "    for i in range(maxit):\n",
    "        r_dot_r = r.T@r\n",
    "        if r_dot_r<initial_error*1e-15:\n",
    "            return x,E\n",
    "        Ap = A @ p\n",
    "        alpha = r_dot_r/(p.T @ Ap)\n",
    "        x+= alpha*p\n",
    "        if (i+1)%restarting==0:\n",
    "            r = b-A@x\n",
    "        else:\n",
    "            r     -= alpha*Ap\n",
    "        beta= (r.T@r)/r_dot_r\n",
    "        p       = r + beta*p\n",
    "        for i in range(repeat_update):\n",
    "            p       = r + beta*p\n",
    "        E.append(r_dot_r)\n",
    "        \n",
    "    return x,E\n",
    "\n",
    "x0 = np.zeros(A.shape[0])\n",
    "ans= []\n",
    "E=[[],[],[]]\n",
    "for repeat in range(3):\n",
    "    print(\"repeat number = \",repeat)\n",
    "    start = time.time()\n",
    "    x,temp = mycg(A,b,np.zeros(A.shape[0]),10000,repeat,1)\n",
    "    E[repeat].append(temp)\n",
    "    end = time.time()\n",
    "    print(\"time takes:\", end - start, \" for \",len(E),\"iterations\")\n",
    "    print(\"residue squared:\",(b - A @ x).T @ (b- A @ x))\n",
    "    ans.append(np.copy(x))\n",
    "    print(\"\\n\")\n",
    "plot(log(E[0][0]),\"b\")\n",
    "plot(log(E[1][0]),\"g\")\n",
    "plot(log(E[2][0]),\"r\")"
   ]
  },
  {
   "cell_type": "code",
   "execution_count": 141,
   "metadata": {},
   "outputs": [
    {
     "data": {
      "text/plain": [
       "[<matplotlib.lines.Line2D at 0x121077198>]"
      ]
     },
     "execution_count": 141,
     "metadata": {},
     "output_type": "execute_result"
    },
    {
     "data": {
      "image/png": "[encoded data removed]",
      "text/plain": [
       "<matplotlib.figure.Figure at 0x120de2cf8>"
      ]
     },
     "metadata": {},
     "output_type": "display_data"
    }
   ],
   "source": [
    "#plot(log(E[0][0]))\n",
    "#plot(log(E[1][0]))\n",
    "plot(log(E_gd_alpha))\n",
    "plot(log(E_gd_alpha_fixed))\n",
    "\n"
   ]
  },
  {
   "cell_type": "code",
   "execution_count": null,
   "metadata": {},
   "outputs": [],
   "source": []
  }
 ],
 "metadata": {
  "kernelspec": {
   "display_name": "Python 3",
   "language": "python",
   "name": "python3"
  },
  "language_info": {
   "codemirror_mode": {
    "name": "ipython",
    "version": 3
   },
   "file_extension": ".py",
   "mimetype": "text/x-python",
   "name": "python",
   "nbconvert_exporter": "python",
   "pygments_lexer": "ipython3",
   "version": "3.6.4"
  }
 },
 "nbformat": 4,
 "nbformat_minor": 2
}
