{
 "cells": [
  {
   "cell_type": "code",
   "execution_count": null,
   "metadata": {},
   "outputs": [],
   "source": [
    "import numpy as np\n",
    "from matplotlib.pyplot import *\n",
    "from scipy import *\n",
    "import scipy\n",
    "from scipy.io import mmread\n",
    "import pylab\n",
    "import time\n",
    "import scipy.sparse.linalg as spl\n",
    "import matplotlib.pyplot as plt"
   ]
  },
  {
   "cell_type": "code",
   "execution_count": null,
   "metadata": {},
   "outputs": [],
   "source": [
    "def cg(A,b,x0,maxit):\n",
    "    print(\"my cg!\")\n",
    "    x = x0\n",
    "    r = b-A@x\n",
    "    p = r\n",
    "    E=[]\n",
    "    for i in range(maxit):\n",
    "        r_dot_r = r.T@r\n",
    "        alpha = r_dot_r/(p.T @ A @ p)\n",
    "        x+= alpha*p\n",
    "        if (i+1)%1==0:\n",
    "            r = b-A@x\n",
    "        else:\n",
    "            r     -= alpha*(A@p)\n",
    "        beta= (r.T@r)/r_dot_r\n",
    "        p       = r + beta*p\n",
    "        E.append(r_dot_r)\n",
    "        #p       = r + beta*p\n",
    "    return x,E\n",
    "\n",
    "def cg2(A,b,x0,maxit):\n",
    "    print(\"my cg!\")\n",
    "    x = x0\n",
    "    r = b-A@x\n",
    "    p = r\n",
    "    E=[]\n",
    "    for i in range(maxit):\n",
    "        r_dot_r = r.T@r\n",
    "        alpha = r_dot_r/(p.T @ A @ p)\n",
    "        x+= alpha*p\n",
    "        if (i+1)%1==0:\n",
    "            r = b-A@x\n",
    "        else:\n",
    "            r     -= alpha*(A@p)\n",
    "        beta= (r.T@r)/r_dot_r\n",
    "        p       = r + beta*p\n",
    "        p       = r + beta*p\n",
    "        E.append(r_dot_r)\n",
    "    return x,E\n",
    "    "
   ]
  },
  {
   "cell_type": "code",
   "execution_count": null,
   "metadata": {},
   "outputs": [],
   "source": [
    "def computeBasis(A,x,s,alp,bet,gam):\n",
    "    n = A.shape[0]\n",
    "    V = np.zeros((n,s+1))\n",
    "    V[:,0] = x\n",
    "    if(s>0):\n",
    "        V[:,1] = (1/gam[0])*(A @ V[:,0]-alp[0]*V[:,0]) \n",
    "        for j in range(2,s+1):\n",
    "            V[:,j] = (1/gam[j-1])*( (A @ V[:,j-1]-alp[j-1]*V[:,j-1]) - bet[j-2]*V[:,j-2])\n",
    "    return V\n",
    "\n",
    "def generate_C(s,alp,bet,gam):\n",
    "    A = np.diag(alp,0) + np.diag(bet,1) + np.diag(gam[:-1],-1)\n",
    "    B = np.zeros((1,s))\n",
    "    B[0,-1]= gam[-1]\n",
    "    C = np.append(A,B,axis=0)\n",
    "    return C\n",
    "\n",
    "def cacg(A,b,s,x0,outer_it):\n",
    "    N = A.shape[0]\n",
    "    r0 = b - A @ x0;\n",
    "    p0 = r0;\n",
    "    alp = np.zeros(s)\n",
    "    bet = np.zeros(s-1)\n",
    "    gam = np.ones(s)\n",
    "    C = generate_C(s,alp,bet,gam)\n",
    "    x = x0\n",
    "    p = p0\n",
    "    r = r0\n",
    "    E=[]\n",
    "    for it in range(outer_it):\n",
    "        P = computeBasis(A,p,s,alp,bet,gam)\n",
    "        R = computeBasis(A,r,s-1,alp,bet,gam)\n",
    "        t1= np.append(C,np.zeros((s+1,1)),axis=1)\n",
    "        t2= np.append(C[:-1,:-1],np.zeros((s,1)),axis=1)\n",
    "        B = scipy.linalg.block_diag(t1,t2)\n",
    "        #\n",
    "        p_c = np.zeros(2*s+1)\n",
    "        r_c = np.zeros(2*s+1)\n",
    "        x_c = np.zeros(2*s+1)\n",
    "        #\n",
    "        p_c[0]=1\n",
    "        r_c[s+1]=1\n",
    "        #\n",
    "        V = np.append(P,R,axis=1)\n",
    "        G = V.T @ V\n",
    "        #\n",
    "        r_dot_r = r_c.T @ G @ r_c\n",
    "        for j in range(s):\n",
    "            alpha = r_dot_r / (p_c.T @ G @ B @ p_c)\n",
    "            x_c   = x_c + alpha* p_c\n",
    "            r_c   = r_c - alpha* B @ p_c\n",
    "            beta  = 1/r_dot_r\n",
    "            r_dot_r=r_c.T @ G @ r_c\n",
    "            beta  = beta*r_dot_r\n",
    "            if abs(beta)<10e-16:\n",
    "                return x + V @ x_c\n",
    "            #\n",
    "            p_c   = r_c + beta * p_c\n",
    "        x = x + V @ x_c\n",
    "        r = b-A@x\n",
    "        E.append(r.T@r)\n",
    "        p = r + beta*V@p_c\n",
    "        #print(\"it,residue: \",it,r.T@r)\n",
    "        #print(\"max entry of residue:\",max(r))\n",
    "        if abs(r.T@r)<10e-24:\n",
    "            break;\n",
    "    return x,E"
   ]
  },
  {
   "cell_type": "code",
   "execution_count": null,
   "metadata": {},
   "outputs": [],
   "source": [
    "#test simple\n",
    "A= np.array([[2,3],[3,6]])\n",
    "b= np.array([3,-3])\n",
    "true_x = np.linalg.inv(A)@b\n",
    "s=2\n",
    "x0=np.zeros(2)\n",
    "print(true_x)\n",
    "cacg(A,b,s,x0,20)"
   ]
  },
  {
   "cell_type": "code",
   "execution_count": null,
   "metadata": {},
   "outputs": [],
   "source": [
    "#test mid\n",
    "dim = 1000\n",
    "A=np.random.random((dim,dim))\n",
    "A=A.T@A\n",
    "true_x = np.random.rand(dim)\n",
    "b= A@true_x"
   ]
  },
  {
   "cell_type": "code",
   "execution_count": null,
   "metadata": {},
   "outputs": [],
   "source": [
    "s=2\n",
    "outer_it= int(np.ceil(2000/s))\n",
    "x0=np.zeros(dim)\n",
    "ans = cacg(A,b,s,x0,outer_it)\n",
    "print(\"E:\",(b - A @ ans).T @ (b- A @ ans))"
   ]
  },
  {
   "cell_type": "code",
   "execution_count": null,
   "metadata": {},
   "outputs": [],
   "source": [
    "# real test\n",
    "dim=1138\n",
    "A = mmread(\"./1138_bus.mtx\")\n",
    "A = A.tocsr()\n",
    "true_x = np.random.rand(1138)\n",
    "b = A @ true_x\n",
    "x0=np.zeros(dim)"
   ]
  },
  {
   "cell_type": "code",
   "execution_count": null,
   "metadata": {},
   "outputs": [],
   "source": [
    "#cacg\n",
    "s=1\n",
    "outer_it= int(np.ceil(1000/s))\n",
    "\n",
    "x0=np.zeros(dim)\n",
    "start = time.time()\n",
    "ans = cacg(A,b,s,x0,outer_it)\n",
    "end = time.time()\n",
    "print(end - start)\n",
    "print(\"E:\",(b - A @ ans).T @ (b- A @ ans))\n",
    "print(max((b - A @ ans)))\n",
    "print(max(abs(true_x-ans)))"
   ]
  },
  {
   "cell_type": "code",
   "execution_count": null,
   "metadata": {},
   "outputs": [],
   "source": [
    "#scipy benchmark\n",
    "start = time.time()\n",
    "sci_x = spl.cg(A,b,maxiter=1000)\n",
    "end = time.time()\n",
    "print(end - start)\n",
    "print(sci_x[1])\n",
    "print(\"E:\",(b - A @ sci_x[0]).T @ (b- A @ sci_x[0]))\n",
    "print(max((b - A @ sci_x[0])))\n",
    "print(max(abs(true_x-sci_x[0])))"
   ]
  },
  {
   "cell_type": "code",
   "execution_count": null,
   "metadata": {},
   "outputs": [],
   "source": [
    "# cg \n",
    "start = time.time()\n",
    "x = cg(A,b,1000)\n",
    "end = time.time()\n",
    "print(end - start)\n",
    "print(\"E:\",(b - A @ x).T @ (b- A @ x))\n",
    "print(x)\n",
    "print(sci_x[0])\n",
    "print(true_x)"
   ]
  },
  {
   "cell_type": "code",
   "execution_count": null,
   "metadata": {},
   "outputs": [],
   "source": [
    "# test cant\n",
    "dim= 62451\n",
    "A = mmread(\"/Users/user/test/cant.mtx\")\n",
    "A = A.tocsr()\n",
    "true_x = np.random.rand(dim)\n",
    "b = A @ true_x\n",
    "x0=np.zeros(dim)\n",
    "# To Do..."
   ]
  },
  {
   "cell_type": "code",
   "execution_count": null,
   "metadata": {},
   "outputs": [],
   "source": [
    "#scipy benchmark\n",
    "start = time.time()\n",
    "sci_x = spl.cg(A,b,tol=10e-20,maxiter=2000)\n",
    "end = time.time()\n",
    "print(end - start)\n",
    "print(sci_x[1])\n",
    "print(\"E:\",(b - A @ sci_x[0]).T @ (b- A @ sci_x[0]))"
   ]
  },
  {
   "cell_type": "code",
   "execution_count": null,
   "metadata": {},
   "outputs": [],
   "source": [
    "A = mmread(\"./cant.mtx\")\n",
    "A = A.tocsr()\n",
    "n = A.shape[0]"
   ]
  },
  {
   "cell_type": "code",
   "execution_count": null,
   "metadata": {},
   "outputs": [],
   "source": [
    "sol = np.zeros((n,1))\n",
    "for i in range(n):\n",
    "    sol[i]=np.random.randint(-50,50)/100"
   ]
  },
  {
   "cell_type": "code",
   "execution_count": null,
   "metadata": {},
   "outputs": [],
   "source": [
    "b = A @ sol"
   ]
  },
  {
   "cell_type": "code",
   "execution_count": null,
   "metadata": {
    "scrolled": true
   },
   "outputs": [],
   "source": [
    "x = np.zeros((n,1))\n",
    "r = b.copy()\n",
    "p = r.copy()\n",
    "x = np.zeros((n,1))\n",
    "r_dot_r = r.T@r\n",
    "for i in range(2000):\n",
    "    r_dot_r = r.T@r\n",
    "    alpha   = r_dot_r/(p.T @ A @ p)\n",
    "    x      += alpha*p\n",
    "    if (i+1)%1==0:\n",
    "        r = b-A@x\n",
    "    else:\n",
    "        r       -= alpha*(A@p)\n",
    "    beta    = (r.T@r)/r_dot_r\n",
    "    p       = r + beta*p\n",
    "    print(r_dot_r)\n",
    "#    E.append(max(A@x-b))"
   ]
  },
  {
   "cell_type": "code",
   "execution_count": null,
   "metadata": {},
   "outputs": [],
   "source": [
    "#scipy benchmark\n",
    "start = time.time()\n",
    "sci_x = spl.cg(A,b,tol=10e-30,maxiter=2000)\n",
    "print(sci_x[1])\n",
    "end = time.time()\n",
    "print(end - start)"
   ]
  },
  {
   "cell_type": "code",
   "execution_count": null,
   "metadata": {},
   "outputs": [],
   "source": [
    "#cacg\n",
    "s=1\n",
    "outer_it= int(np.ceil(2000/s))\n",
    "\n",
    "x0=np.zeros(dim)\n",
    "start = time.time()\n",
    "ans,EE2 = cacg(A,b,s,x0,outer_it)\n",
    "end = time.time()\n",
    "print(end - start)\n",
    "print(\"E:\",(b - A @ ans).T @ (b- A @ ans))\n",
    "print(max((b - A @ ans)))\n",
    "print(max(abs(true_x-ans)))"
   ]
  },
  {
   "cell_type": "code",
   "execution_count": null,
   "metadata": {},
   "outputs": [],
   "source": [
    "fig=plt.figure()\n",
    "fig.show()\n",
    "ax=fig.add_subplot(111)\n",
    "x=[]\n",
    "for i in range(2000):x.append(i)\n",
    "x=np.array(x)\n",
    "#ax.plot(x,EE2,c='b',label='original CG',fillstyle='none')\n",
    "\n",
    "ax.plot(5*x,E_k1,c='b',label='original CG',fillstyle='none')\n",
    "ax.set_yscale('log')\n",
    "plt.xlabel('number of iterations')\n",
    "plt.ylabel('residue squared')\n",
    "plt.title('CA-CG smoothing with ')\n",
    "\n",
    "plt.grid()\n",
    "plt.legend(loc=1)\n",
    "plt.show()\n"
   ]
  },
  {
   "cell_type": "code",
   "execution_count": null,
   "metadata": {},
   "outputs": [],
   "source": [
    "E_k1 = EE"
   ]
  },
  {
   "cell_type": "code",
   "execution_count": null,
   "metadata": {},
   "outputs": [],
   "source": [
    "#cacg\n",
    "s=5\n",
    "outer_it= int(np.ceil(10000/s))\n",
    "\n",
    "x0=np.zeros(dim)\n",
    "start = time.time()\n",
    "ans,EE = cacg(A,b,s,x0,outer_it)\n",
    "end = time.time()\n",
    "print(end - start)\n",
    "print(\"E:\",(b - A @ ans).T @ (b- A @ ans))\n",
    "print(max((b - A @ ans)))\n",
    "print(max(abs(true_x-ans)))"
   ]
  },
  {
   "cell_type": "code",
   "execution_count": null,
   "metadata": {},
   "outputs": [],
   "source": [
    "#cacg\n",
    "s=1\n",
    "outer_it= int(np.ceil(10000/s))\n",
    "\n",
    "x0=np.zeros(dim)\n",
    "start = time.time()\n",
    "ans,EE2 = cacg(A,b,s,x0,outer_it)\n",
    "end = time.time()\n",
    "print(\"time is \",end - start)\n",
    "print(\"E:\",(b - A @ ans).T @ (b- A @ ans))\n",
    "print(max((b - A @ ans)))\n",
    "print(max(abs(true_x-ans)))"
   ]
  },
  {
   "cell_type": "code",
   "execution_count": null,
   "metadata": {},
   "outputs": [],
   "source": [
    "fig=plt.figure()\n",
    "fig.show()\n",
    "ax=fig.add_subplot(111)\n",
    "x=[]\n",
    "for i in range(10000):x.append(i)\n",
    "x=np.array(x)\n",
    "ax.plot(x,EE2,c='b',label='original CG',fillstyle='none')\n",
    "ax.set_yscale('log')\n",
    "plt.xlabel('number of iterations')\n",
    "plt.ylabel('residue squared')\n",
    "plt.title('CA-CG smoothing with ')\n",
    "\n",
    "plt.grid()\n",
    "plt.legend(loc=1)\n",
    "plt.show()"
   ]
  },
  {
   "cell_type": "code",
   "execution_count": null,
   "metadata": {},
   "outputs": [],
   "source": [
    "fig=plt.figure()\n",
    "fig.show()\n",
    "ax=fig.add_subplot(111)\n",
    "x=[]\n",
    "y=[]\n",
    "for i in range(10000):x.append(i)\n",
    "for i in range(2000):y.append(i)\n",
    "x=np.array(x)\n",
    "y=np.array(y)\n",
    "ax.plot(x,EE2,c='b',label='CA-CG with s = 1',fillstyle='none')\n",
    "ax.plot(5*y,E_k1,c='g',label='CA-CG with s = 5',fillstyle='none')\n",
    "ax.set_yscale('log')\n",
    "plt.xlabel('number of iterations')\n",
    "plt.ylabel('residue squared')\n",
    "plt.title('smoothing CA-CG convergence')\n",
    "\n",
    "plt.grid()\n",
    "plt.legend(loc=1)\n",
    "plt.show()"
   ]
  },
  {
   "cell_type": "code",
   "execution_count": null,
   "metadata": {},
   "outputs": [],
   "source": [
    "#cacg\n",
    "s=1\n",
    "outer_it= int(np.ceil(10000/s))\n",
    "x0=np.zeros(dim)\n",
    "start = time.time()\n",
    "_,_ = cacg(A,b,s,x0,outer_it)\n",
    "end = time.time()\n",
    "print(\"time is \",end - start)"
   ]
  },
  {
   "cell_type": "code",
   "execution_count": null,
   "metadata": {},
   "outputs": [],
   "source": [
    "#cacg\n",
    "s=2\n",
    "outer_it= int(np.ceil(10000/s))\n",
    "x0=np.zeros(dim)\n",
    "start = time.time()\n",
    "_,_ = cacg(A,b,s,x0,outer_it)\n",
    "end = time.time()\n",
    "print(\"time is \",end - start)"
   ]
  },
  {
   "cell_type": "code",
   "execution_count": null,
   "metadata": {},
   "outputs": [],
   "source": [
    "#cacg\n",
    "s=4\n",
    "outer_it= int(np.ceil(10000/s))\n",
    "x0=np.zeros(dim)\n",
    "start = time.time()\n",
    "_,_ = cacg(A,b,s,x0,outer_it)\n",
    "end = time.time()\n",
    "print(\"time is \",end - start)"
   ]
  },
  {
   "cell_type": "code",
   "execution_count": null,
   "metadata": {},
   "outputs": [],
   "source": [
    "#scipy benchmark\n",
    "start = time.time()\n",
    "sci_x = spl.cg(A,b,tol=10e-30,maxiter=10000)\n",
    "print(sci_x[1])\n",
    "end = time.time()\n",
    "print(end - start)"
   ]
  },
  {
   "cell_type": "code",
   "execution_count": null,
   "metadata": {},
   "outputs": [],
   "source": []
  }
 ],
 "metadata": {
  "kernelspec": {
   "display_name": "Python 3",
   "language": "python",
   "name": "python3"
  },
  "language_info": {
   "codemirror_mode": {
    "name": "ipython",
    "version": 3
   },
   "file_extension": ".py",
   "mimetype": "text/x-python",
   "name": "python",
   "nbconvert_exporter": "python",
   "pygments_lexer": "ipython3",
   "version": "3.6.4"
  }
 },
 "nbformat": 4,
 "nbformat_minor": 2
}
